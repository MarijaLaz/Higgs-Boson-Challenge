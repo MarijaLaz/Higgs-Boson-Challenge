{
 "cells": [
  {
   "cell_type": "code",
   "execution_count": 108,
   "metadata": {},
   "outputs": [
    {
     "name": "stdout",
     "output_type": "stream",
     "text": [
      "The autoreload extension is already loaded. To reload it, use:\n",
      "  %reload_ext autoreload\n"
     ]
    }
   ],
   "source": [
    "# Useful starting lines\n",
    "%matplotlib inline\n",
    "import numpy as np\n",
    "import pandas as pd\n",
    "import seaborn as sns\n",
    "from implementations import *\n",
    "import matplotlib.pyplot as plt\n",
    "%load_ext autoreload\n",
    "%autoreload 2"
   ]
  },
  {
   "cell_type": "markdown",
   "metadata": {},
   "source": [
    "## Load the training data into feature matrix, class labels, and event ids:"
   ]
  },
  {
   "cell_type": "code",
   "execution_count": 109,
   "metadata": {},
   "outputs": [
    {
     "name": "stdout",
     "output_type": "stream",
     "text": [
      "(250000,) (250000, 30) (250000,)\n"
     ]
    }
   ],
   "source": [
    "from proj1_helpers import *\n",
    "\n",
    "#load data\n",
    "DATA_TRAIN_PATH = '../data/train.csv' #download train data and supply path here \n",
    "y, x, ids = load_csv_data(DATA_TRAIN_PATH)\n",
    "\n",
    "#add constant term\n",
    "#tx = np.c_[np.ones((y.shape[0], 1)), x]\n",
    "\n",
    "print(y.shape, x.shape, ids.shape)"
   ]
  },
  {
   "cell_type": "code",
   "execution_count": 116,
   "metadata": {},
   "outputs": [],
   "source": [
    "def split_jet(y, tx):\n",
    "    #features\n",
    "    jet_0_tx = []\n",
    "    jet_1_tx = []\n",
    "    jet_2_tx = []\n",
    "    jet_3_tx = []\n",
    "    #labels\n",
    "    jet_0_y = []\n",
    "    jet_1_y = []\n",
    "    jet_2_y = []\n",
    "    jet_3_y = []\n",
    "\n",
    "    for i in range(tx.shape[0]):\n",
    "        if tx[i,22] == 0:\n",
    "            jet_0_tx.append(tx[i])\n",
    "            jet_0_y.append(y[i])\n",
    "        if tx[i,22] == 1:\n",
    "            jet_1_tx.append(tx[i])\n",
    "            jet_1_y.append(y[i])\n",
    "        if tx[i,22] == 2:\n",
    "            jet_2_tx.append(tx[i])\n",
    "            jet_2_y.append(y[i])\n",
    "        if tx[i,22] == 3:\n",
    "            jet_3_tx.append(tx[i])\n",
    "            jet_3_y.append(y[i])\n",
    "            \n",
    "    return np.array(jet_0_tx), np.array(jet_1_tx), np.array(jet_2_tx), np.array(jet_3_tx), np.array(jet_0_y), np.array(jet_1_y), np.array(jet_2_y), np.array(jet_3_y) "
   ]
  },
  {
   "cell_type": "code",
   "execution_count": 117,
   "metadata": {},
   "outputs": [],
   "source": [
    "jet_0_tx, jet_1_tx, jet_2_tx, jet_3_tx, jet_0_y, jet_1_y, jet_2_y, jet_3_y  = split_jet(y, x)"
   ]
  },
  {
   "cell_type": "code",
   "execution_count": 136,
   "metadata": {},
   "outputs": [],
   "source": [
    "def removeNaN(jet_x):\n",
    "    return jet_x[:, np.any((jet_x != -999), axis=0)]"
   ]
  },
  {
   "cell_type": "code",
   "execution_count": 144,
   "metadata": {},
   "outputs": [],
   "source": [
    "jet_0_tx = removeNaN(jet_0_tx)\n",
    "jet_1_tx = removeNaN(jet_1_tx)\n",
    "#no nan values for jet 2 and jet 3"
   ]
  },
  {
   "cell_type": "code",
   "execution_count": 145,
   "metadata": {},
   "outputs": [
    {
     "data": {
      "text/plain": [
       "(99913, 20)"
      ]
     },
     "execution_count": 145,
     "metadata": {},
     "output_type": "execute_result"
    }
   ],
   "source": [
    "jet_0_tx.shape"
   ]
  },
  {
   "cell_type": "code",
   "execution_count": null,
   "metadata": {},
   "outputs": [],
   "source": []
  }
 ],
 "metadata": {
  "kernelspec": {
   "display_name": "Python 3",
   "language": "python",
   "name": "python3"
  },
  "language_info": {
   "codemirror_mode": {
    "name": "ipython",
    "version": 3
   },
   "file_extension": ".py",
   "mimetype": "text/x-python",
   "name": "python",
   "nbconvert_exporter": "python",
   "pygments_lexer": "ipython3",
   "version": "3.6.9"
  }
 },
 "nbformat": 4,
 "nbformat_minor": 4
}
