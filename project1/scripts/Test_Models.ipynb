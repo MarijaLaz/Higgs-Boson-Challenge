{
 "cells": [
  {
   "cell_type": "code",
   "execution_count": 1,
   "metadata": {},
   "outputs": [],
   "source": [
    "# Useful starting lines\n",
    "%matplotlib inline\n",
    "import numpy as np\n",
    "from utils.implementations import *\n",
    "from utils.helpers import *\n",
    "from utils.preprocessing import *\n",
    "from utils.crossvalidation import *\n",
    "import matplotlib.pyplot as plt\n",
    "%load_ext autoreload\n",
    "%autoreload 2"
   ]
  },
  {
   "cell_type": "markdown",
   "metadata": {},
   "source": [
    "## Load the training data into feature matrix, class labels, and event ids:"
   ]
  },
  {
   "cell_type": "code",
   "execution_count": 2,
   "metadata": {},
   "outputs": [],
   "source": [
    "#unzip csv \n",
    "import zipfile\n",
    "with zipfile.ZipFile('../data/train.csv.zip') as zip_ref:\n",
    "    zip_ref.extractall(r\"../data\")"
   ]
  },
  {
   "cell_type": "code",
   "execution_count": 5,
   "metadata": {},
   "outputs": [
    {
     "name": "stdout",
     "output_type": "stream",
     "text": [
      "Shape of the data:\n",
      " y=(250000,), x=(250000, 30), ids=(250000,)\n"
     ]
    }
   ],
   "source": [
    "#load data\n",
    "DATA_TRAIN_PATH = '../data/train.csv' #download train data and supply path here \n",
    "y, x, ids = load_csv_data(DATA_TRAIN_PATH)\n",
    "\n",
    "print(\"Shape of the data:\\n y={ys}, x={xs}, ids={idss}\".format(ys = y.shape, xs = x.shape, idss = ids.shape))"
   ]
  },
  {
   "cell_type": "markdown",
   "metadata": {},
   "source": [
    "## Comparing the Models"
   ]
  },
  {
   "cell_type": "markdown",
   "metadata": {},
   "source": [
    "### Pre-processing of the data"
   ]
  },
  {
   "cell_type": "code",
   "execution_count": 6,
   "metadata": {},
   "outputs": [],
   "source": [
    "#standardize data\n",
    "tx, mean, std = standardize(x)\n",
    "\n",
    "#add constant term\n",
    "tx = np.c_[np.ones((y.shape[0],1)), tx]"
   ]
  },
  {
   "cell_type": "markdown",
   "metadata": {},
   "source": [
    "### Test Models"
   ]
  },
  {
   "cell_type": "markdown",
   "metadata": {},
   "source": [
    "#### Gradient Descent"
   ]
  },
  {
   "cell_type": "code",
   "execution_count": 8,
   "metadata": {},
   "outputs": [
    {
     "name": "stdout",
     "output_type": "stream",
     "text": [
      "0 - Test loss : 1.361959 / Test accuracy : 0.743240\n",
      "1 - Test loss : 1.371413 / Test accuracy : 0.740400\n",
      "2 - Test loss : 1.354045 / Test accuracy : 0.747760\n",
      "3 - Test loss : 1.356264 / Test accuracy : 0.743900\n",
      "4 - Test loss : 1.367306 / Test accuracy : 0.743340\n",
      "\n",
      "Average test accuracy: 0.743728\n",
      "Variance test accuracy: 0.000006\n",
      "Min test accuracy: 0.740400\n",
      "Max test accuracy: 0.747760\n"
     ]
    }
   ],
   "source": [
    "#defining cross validation parameters\n",
    "k_fold = 5\n",
    "k_indices = build_k_indices(y, k_fold, seed=1)\n",
    "\n",
    "#defining model parameters\n",
    "initial_w = np.zeros(tx.shape[1])\n",
    "gamma = 0.01\n",
    "max_iters = 2000\n",
    "\n",
    "accuracy = []\n",
    "total_loss_test= []\n",
    "\n",
    "for k in range(k_fold):\n",
    "    acc, loss_test = cross_validation(y, tx, k_indices, k, initial_w, 'least_squares_GD', max_iters, gamma)\n",
    "    accuracy.append(acc)\n",
    "    total_loss_test.append(loss_test)\n",
    "    \n",
    "#Print cross validation results\n",
    "for i in range(len(accuracy)):\n",
    "    print(\"%d - Test loss : %f / Test accuracy : %f\" % (i, total_loss_test[i], accuracy[i]))\n",
    "\n",
    "print(\"\\nAverage test accuracy: %f\" % np.mean(accuracy))\n",
    "print(\"Variance test accuracy: %f\" % np.var(accuracy))\n",
    "print(\"Min test accuracy: %f\" % np.min(accuracy))\n",
    "print(\"Max test accuracy: %f\" % np.max(accuracy))"
   ]
  },
  {
   "cell_type": "markdown",
   "metadata": {},
   "source": [
    "#### Stochastic Gradient Descent"
   ]
  },
  {
   "cell_type": "code",
   "execution_count": 9,
   "metadata": {},
   "outputs": [
    {
     "name": "stdout",
     "output_type": "stream",
     "text": [
      "0 - Test loss : 1.531001 / Test accuracy : 0.699740\n",
      "1 - Test loss : 1.659796 / Test accuracy : 0.689540\n",
      "2 - Test loss : 1.739932 / Test accuracy : 0.674780\n",
      "3 - Test loss : 1.612047 / Test accuracy : 0.715700\n",
      "4 - Test loss : 1.480298 / Test accuracy : 0.716520\n",
      "\n",
      "Average test accuracy: 0.699256\n",
      "Variance test accuracy: 0.000252\n",
      "Min test accuracy: 0.674780\n",
      "Max test accuracy: 0.716520\n"
     ]
    }
   ],
   "source": [
    "#defining cross validation parameters\n",
    "k_fold = 5\n",
    "k_indices = build_k_indices(y, k_fold, seed=1)\n",
    "\n",
    "#defining model parameters\n",
    "initial_w = np.zeros(tx.shape[1])\n",
    "gamma = 0.01\n",
    "max_iters = 2000\n",
    "\n",
    "accuracy = []\n",
    "total_loss_test= []\n",
    "\n",
    "for k in range(k_fold):    \n",
    "    acc, loss_te_SGD = cross_validation(y, tx, k_indices, k, initial_w, 'least_squares_SGD', max_iters, gamma)\n",
    "    accuracy.append(acc)\n",
    "    total_loss_test.append(loss_te_SGD)\n",
    "\n",
    "#Print cross validation results\n",
    "for i in range(len(accuracy)):\n",
    "    print(\"%d - Test loss : %f / Test accuracy : %f\" % (i, total_loss_test[i], accuracy[i]))\n",
    "\n",
    "print(\"\\nAverage test accuracy: %f\" % np.mean(accuracy))\n",
    "print(\"Variance test accuracy: %f\" % np.var(accuracy))\n",
    "print(\"Min test accuracy: %f\" % np.min(accuracy))\n",
    "print(\"Max test accuracy: %f\" % np.max(accuracy))"
   ]
  },
  {
   "cell_type": "markdown",
   "metadata": {},
   "source": [
    "#### Least Squares"
   ]
  },
  {
   "cell_type": "code",
   "execution_count": 10,
   "metadata": {},
   "outputs": [
    {
     "name": "stdout",
     "output_type": "stream",
     "text": [
      "0 - Test loss : 1.357794 / Test accuracy : 0.744520\n",
      "1 - Test loss : 1.366549 / Test accuracy : 0.742460\n",
      "2 - Test loss : 1.351311 / Test accuracy : 0.748380\n",
      "3 - Test loss : 1.352930 / Test accuracy : 0.743900\n",
      "4 - Test loss : 1.362464 / Test accuracy : 0.744680\n",
      "\n",
      "Average test accuracy: 0.744788\n",
      "Variance test accuracy: 0.000004\n",
      "Min test accuracy: 0.742460\n",
      "Max test accuracy: 0.748380\n"
     ]
    }
   ],
   "source": [
    "#defining cross validation parameters\n",
    "k_fold = 5\n",
    "k_indices = build_k_indices(y, k_fold, seed=1)\n",
    "\n",
    "#defining model parameters\n",
    "initial_w = np.zeros(tx.shape[1])\n",
    "lambda_ = 0.6\n",
    "\n",
    "accuracy = []\n",
    "total_loss_test= []\n",
    "\n",
    "for k in range(k_fold):\n",
    "    \n",
    "    acc, loss_te_RR = cross_validation(y, tx, k_indices, k, initial_w, 'least_squares', lambda_)\n",
    "    accuracy.append(acc)\n",
    "    total_loss_test.append(np.mean(loss_te_RR))\n",
    "\n",
    "#Print cross validation results\n",
    "for i in range(len(accuracy)):\n",
    "    print(\"%d - Test loss : %f / Test accuracy : %f\" % (i, total_loss_test[i], accuracy[i]))\n",
    "\n",
    "print(\"\\nAverage test accuracy: %f\" % np.mean(accuracy))\n",
    "print(\"Variance test accuracy: %f\" % np.var(accuracy))\n",
    "print(\"Min test accuracy: %f\" % np.min(accuracy))\n",
    "print(\"Max test accuracy: %f\" % np.max(accuracy))"
   ]
  },
  {
   "cell_type": "markdown",
   "metadata": {},
   "source": [
    "#### Rigde Regression"
   ]
  },
  {
   "cell_type": "code",
   "execution_count": 11,
   "metadata": {},
   "outputs": [
    {
     "name": "stdout",
     "output_type": "stream",
     "text": [
      "0 - Test loss : 1.357794 / Test accuracy : 0.744520\n",
      "1 - Test loss : 1.366549 / Test accuracy : 0.742460\n",
      "2 - Test loss : 1.351311 / Test accuracy : 0.748380\n",
      "3 - Test loss : 1.352930 / Test accuracy : 0.743900\n",
      "4 - Test loss : 1.362464 / Test accuracy : 0.744680\n",
      "\n",
      "Average test accuracy: 0.744788\n",
      "Variance test accuracy: 0.000004\n",
      "Min test accuracy: 0.742460\n",
      "Max test accuracy: 0.748380\n"
     ]
    }
   ],
   "source": [
    "#defining cross validation parameters\n",
    "k_fold = 5\n",
    "k_indices = build_k_indices(y, k_fold, seed=1)\n",
    "\n",
    "#defining model parameters\n",
    "initial_w = np.zeros(tx.shape[1])\n",
    "lambda_ = 0.6\n",
    "\n",
    "accuracy = []\n",
    "total_loss_test= []\n",
    "\n",
    "for k in range(k_fold):\n",
    "    acc, loss_te_RR = cross_validation(y, tx, k_indices, k, initial_w, 'ridge_regression', lambda_)\n",
    "    accuracy.append(np.mean(acc))\n",
    "    total_loss_test.append(np.mean(loss_te_RR))\n",
    "\n",
    "#Print cross validation results\n",
    "for i in range(len(accuracy)):\n",
    "    print(\"%d - Test loss : %f / Test accuracy : %f\" % (i, total_loss_test[i], accuracy[i]))\n",
    "\n",
    "print(\"\\nAverage test accuracy: %f\" % np.mean(accuracy))\n",
    "print(\"Variance test accuracy: %f\" % np.var(accuracy))\n",
    "print(\"Min test accuracy: %f\" % np.min(accuracy))\n",
    "print(\"Max test accuracy: %f\" % np.max(accuracy))"
   ]
  },
  {
   "cell_type": "markdown",
   "metadata": {},
   "source": [
    "#### Logistic Regression"
   ]
  },
  {
   "cell_type": "code",
   "execution_count": 7,
   "metadata": {},
   "outputs": [
    {
     "name": "stdout",
     "output_type": "stream",
     "text": [
      "0 - Test loss : 0.497959 / Test accuracy : 0.749440\n",
      "1 - Test loss : 0.500810 / Test accuracy : 0.747360\n",
      "2 - Test loss : 0.494319 / Test accuracy : 0.753360\n",
      "3 - Test loss : 0.495561 / Test accuracy : 0.749860\n",
      "4 - Test loss : 0.499373 / Test accuracy : 0.750560\n",
      "\n",
      "Average test accuracy: 0.750116\n",
      "Variance test accuracy: 0.000004\n",
      "Min test accuracy: 0.747360\n",
      "Max test accuracy: 0.753360\n"
     ]
    }
   ],
   "source": [
    "#defining cross validation parameters\n",
    "k_fold = 5\n",
    "k_indices = build_k_indices(y, k_fold, seed=1)\n",
    "\n",
    "#defining model parameters\n",
    "initial_w = np.zeros(tx.shape[1])\n",
    "gamma = 1e-6\n",
    "max_iters = 2000\n",
    "lambda_ = 0.001\n",
    "\n",
    "accuracy = []\n",
    "total_loss_test= []\n",
    "for k in range(k_fold):\n",
    "    acc, loss_te_LR = cross_validation(y, tx, k_indices, k, initial_w, 'logistic_regression', max_iters, gamma)\n",
    "    accuracy.append(acc)\n",
    "    total_loss_test.append(loss_te_LR)\n",
    "\n",
    "#Print cross validation results\n",
    "for i in range(len(accuracy)):\n",
    "    print(\"%d - Test loss : %f / Test accuracy : %f\" % (i, total_loss_test[i], accuracy[i]))\n",
    "\n",
    "print(\"\\nAverage test accuracy: %f\" % np.mean(accuracy))\n",
    "print(\"Variance test accuracy: %f\" % np.var(accuracy))\n",
    "print(\"Min test accuracy: %f\" % np.min(accuracy))\n",
    "print(\"Max test accuracy: %f\" % np.max(accuracy))"
   ]
  },
  {
   "cell_type": "markdown",
   "metadata": {},
   "source": [
    "#### Reg Logistic Regression"
   ]
  },
  {
   "cell_type": "code",
   "execution_count": 9,
   "metadata": {},
   "outputs": [
    {
     "name": "stdout",
     "output_type": "stream",
     "text": [
      "0 - Test loss : 0.497990 / Test accuracy : 0.749260\n",
      "1 - Test loss : 0.500828 / Test accuracy : 0.747460\n",
      "2 - Test loss : 0.494341 / Test accuracy : 0.753140\n",
      "3 - Test loss : 0.495605 / Test accuracy : 0.750100\n",
      "4 - Test loss : 0.499399 / Test accuracy : 0.750400\n",
      "\n",
      "Average test accuracy: 0.750072\n",
      "Variance test accuracy: 0.000003\n",
      "Min test accuracy: 0.747460\n",
      "Max test accuracy: 0.753140\n"
     ]
    }
   ],
   "source": [
    "#defining cross validation parameters\n",
    "k_fold = 5\n",
    "k_indices = build_k_indices(y, k_fold, seed=1)\n",
    "\n",
    "#defining model parameters\n",
    "initial_w = np.zeros(tx.shape[1])\n",
    "gamma = 1e-6\n",
    "max_iters = 2000\n",
    "lambda_ = 0.001\n",
    "\n",
    "accuracy = []\n",
    "total_loss_test= []\n",
    "\n",
    "for k in range(k_fold):\n",
    "    acc, loss_te_RLR = cross_validation(y, tx, k_indices, k, initial_w, 'reg_logistic_regression',  max_iters, gamma, lambda_)\n",
    "    accuracy.append(acc)\n",
    "    total_loss_test.append(loss_te_RLR)\n",
    "\n",
    "#Print cross validation results\n",
    "for i in range(len(accuracy)):\n",
    "    print(\"%d - Test loss : %f / Test accuracy : %f\" % (i, total_loss_test[i], accuracy[i]))\n",
    "\n",
    "print(\"\\nAverage test accuracy: %f\" % np.mean(accuracy))\n",
    "print(\"Variance test accuracy: %f\" % np.var(accuracy))\n",
    "print(\"Min test accuracy: %f\" % np.min(accuracy))\n",
    "print(\"Max test accuracy: %f\" % np.max(accuracy))"
   ]
  },
  {
   "cell_type": "code",
   "execution_count": null,
   "metadata": {},
   "outputs": [],
   "source": []
  },
  {
   "cell_type": "code",
   "execution_count": null,
   "metadata": {},
   "outputs": [],
   "source": []
  },
  {
   "cell_type": "code",
   "execution_count": null,
   "metadata": {},
   "outputs": [],
   "source": [
    "#defining cross validation parameters\n",
    "k_fold = 5\n",
    "k_indices = build_k_indices(y, k_fold, seed=1)\n",
    "\n",
    "#defining model parameters\n",
    "initial_w = np.zeros(tx.shape[1])\n",
    "gamma = 1e-6\n",
    "max_iters = 2000\n",
    "lambda_ = 0.6\n",
    "\n",
    "accuracy = []\n",
    "total_loss_test= []\n",
    "\n",
    "for k in range(k_fold):\n",
    "    acc, loss_te_RLR = cross_validation(y, tx, k_indices, k, initial_w, 'reg_logistic_regression',  max_iters, gamma, lambda_)\n",
    "    accuracy.append(acc)\n",
    "    total_loss_test.append(loss_te_RLR)\n",
    "\n",
    "#Print cross validation results\n",
    "for i in range(len(accuracy)):\n",
    "    print(\"%d - Test loss : %f / Test accuracy : %f\" % (i, total_loss_test[i], accuracy[i]))\n",
    "\n",
    "print(\"\\nAverage test accuracy: %f\" % np.mean(accuracy))\n",
    "print(\"Variance test accuracy: %f\" % np.var(accuracy))\n",
    "print(\"Min test accuracy: %f\" % np.min(accuracy))\n",
    "print(\"Max test accuracy: %f\" % np.max(accuracy))"
   ]
  },
  {
   "cell_type": "code",
   "execution_count": null,
   "metadata": {},
   "outputs": [],
   "source": []
  }
 ],
 "metadata": {
  "kernelspec": {
   "display_name": "Python 3",
   "language": "python",
   "name": "python3"
  },
  "language_info": {
   "codemirror_mode": {
    "name": "ipython",
    "version": 3
   },
   "file_extension": ".py",
   "mimetype": "text/x-python",
   "name": "python",
   "nbconvert_exporter": "python",
   "pygments_lexer": "ipython3",
   "version": "3.6.9"
  }
 },
 "nbformat": 4,
 "nbformat_minor": 4
}
