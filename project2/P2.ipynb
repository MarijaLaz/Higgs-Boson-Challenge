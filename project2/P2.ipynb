{
 "cells": [
  {
   "cell_type": "code",
   "execution_count": 1,
   "metadata": {},
   "outputs": [],
   "source": [
    "# Useful starting lines\n",
    "%matplotlib inline\n",
    "import numpy as np\n",
    "import pandas as pd\n",
    "import scipy as ski\n",
    "import matplotlib.pyplot as plt\n",
    "from sklearn.ensemble import RandomForestRegressor\n",
    "%load_ext autoreload\n",
    "%autoreload 2"
   ]
  },
  {
   "cell_type": "code",
   "execution_count": 2,
   "metadata": {},
   "outputs": [],
   "source": [
    "data = pd.read_csv(\"Data/HEMODB.csv\",sep=';')"
   ]
  },
  {
   "cell_type": "code",
   "execution_count": 3,
   "metadata": {},
   "outputs": [],
   "source": [
    "data.head()\n",
    "data.drop(['Unnamed: 13','Unnamed: 14','Unnamed: 15'],axis=1,inplace=True)"
   ]
  },
  {
   "cell_type": "code",
   "execution_count": 4,
   "metadata": {},
   "outputs": [
    {
     "name": "stdout",
     "output_type": "stream",
     "text": [
      "['Heart rate']\n",
      "        ID  Brachial SBP  Brachial DBP  Brachial PP     MAP  Heart rate  \\\n",
      "0        1        98.328        73.229       25.098  81.595   85.608000   \n",
      "1        2        87.134        64.596       22.538  72.109   74.166000   \n",
      "2        3        85.728        65.301       20.427  72.110   86.010000   \n",
      "3        4        87.308        68.627       18.681  74.854   82.570492   \n",
      "4        5        83.572        65.532       18.040  71.545   97.197000   \n",
      "...    ...           ...           ...          ...     ...         ...   \n",
      "4013  4014       169.200        59.184      110.020  95.856   90.499000   \n",
      "4014  4015       149.840        49.120      100.720  82.694   90.460000   \n",
      "4015  4016       155.220        48.294      106.930  83.937   80.327000   \n",
      "4016  4017       164.350        62.557      101.800  96.489   93.305000   \n",
      "4017  4018       145.850        47.502       98.346  80.284   94.579000   \n",
      "\n",
      "      Carotid-to-femoral PWV  Stroke volume  Ejection fraction  Central SBP  \\\n",
      "0                     6.2060         50.896             48.893       91.399   \n",
      "1                     5.8806         51.110             48.303       80.663   \n",
      "2                     6.0619         45.413             41.588       79.826   \n",
      "3                     5.9547         45.091             39.257       81.771   \n",
      "4                     5.7352         41.302             39.403       78.667   \n",
      "...                      ...            ...                ...          ...   \n",
      "4013                 14.1050         94.711             55.100      166.760   \n",
      "4014                 13.8170         87.233             55.661      143.670   \n",
      "4015                 14.2670         81.664             56.208      147.770   \n",
      "4016                 13.9720         89.477             46.656      166.380   \n",
      "4017                 14.1630         77.640             55.104      140.020   \n",
      "\n",
      "      End-systolic elastance  End-diastolic elastance  Ejection duration  \n",
      "0                314000000.0               15600000.0           0.158490  \n",
      "1                269000000.0               18800000.0           0.158550  \n",
      "2                220000000.0               18800000.0           0.168260  \n",
      "3                204000000.0               16500000.0           0.183530  \n",
      "4                219000000.0               17300000.0           0.114780  \n",
      "...                      ...                      ...                ...  \n",
      "4013             357000000.0               15100000.0           0.226550  \n",
      "4014             338000000.0               19300000.0           0.099992  \n",
      "4015             385000000.0               15800000.0           0.101340  \n",
      "4016             267000000.0               16500000.0           0.245590  \n",
      "4017             371000000.0               15900000.0           0.210400  \n",
      "\n",
      "[4018 rows x 13 columns]\n"
     ]
    }
   ],
   "source": [
    "#Managing NaN values \n",
    "NaN_values=data.isna().any()\n",
    "columns_with_NaN=data.columns[NaN_values].tolist()\n",
    "print(columns_with_NaN)\n",
    "\n",
    "#replace the missing value with the mean \n",
    "for to_replace in enumerate(columns_with_NaN):\n",
    "    #compute the mean of the column where NaN have to be replaced\n",
    "    mean=data[columns_with_NaN].mean()\n",
    "    data[columns_with_NaN]=data[columns_with_NaN].replace(np.nan,mean)\n",
    "print(data)\n"
   ]
  },
  {
   "cell_type": "code",
   "execution_count": 12,
   "metadata": {},
   "outputs": [],
   "source": [
    "#Removal of the unused features, keeping brSBP, brDBP, HR and cfPWV\n",
    "u_features={'brSBP':data['Brachial SBP'],'brDBP':data['Brachial DBP'],'HR':data['Heart rate'],'cfPWV':data['Carotid-to-femoral PWV']}\n",
    "used_features=pd.DataFrame(u_features)\n",
    "\n",
    "#Second set of used features, adding EF\n",
    "u2_features={'brSBP':data['Brachial SBP'],'brDBP':data['Brachial DBP'],'HR':data['Heart rate'],'cfPWV':data['Carotid-to-femoral PWV'],'EF':data['Ejection fraction']}\n",
    "used2_features=pd.DataFrame(u2_features)\n",
    "\n",
    "#Creating csv datafiles\n",
    "U1_PATH='Data/u1.csv'\n",
    "U2_PATH='Data/u2.csv'\n",
    "\n",
    "used_features.to_csv(U1_PATH,sep=',')\n",
    "used2_features.to_csv(U2_PATH,sep=',')"
   ]
  },
  {
   "cell_type": "code",
   "execution_count": 13,
   "metadata": {},
   "outputs": [],
   "source": [
    "#Random Forest Regressor\n",
    "max_depth=[5,10,20]\n",
    "n_estimators=[500,700,1000]\n",
    "N=len(max_depth)*len(n_estimators)\n",
    "\n",
    "#Array to store the end-systolic predictions for each combination of hyperparameters \n",
    "esE=np.zeros((len(used_features),N))\n"
   ]
  },
  {
   "cell_type": "code",
   "execution_count": 14,
   "metadata": {},
   "outputs": [
    {
     "name": "stdout",
     "output_type": "stream",
     "text": [
      "[2.76834917e+08 2.78406483e+08 2.76938002e+08 ... 3.39981851e+08\n",
      " 3.29908255e+08 3.24931453e+08]\n",
      "[2.76150006e+08 2.79848213e+08 2.76712715e+08 ... 3.38775318e+08\n",
      " 3.29841314e+08 3.25792544e+08]\n",
      "[2.76210069e+08 2.79383523e+08 2.77011488e+08 ... 3.39108523e+08\n",
      " 3.30215827e+08 3.23983824e+08]\n",
      "[2.77094478e+08 2.78714435e+08 2.72106095e+08 ... 3.53095721e+08\n",
      " 3.16030515e+08 3.35152898e+08]\n",
      "[2.76233060e+08 2.78237262e+08 2.72185975e+08 ... 3.53284662e+08\n",
      " 3.15760884e+08 3.38372081e+08]\n",
      "[2.76955903e+08 2.77477158e+08 2.71282304e+08 ... 3.52492610e+08\n",
      " 3.15651720e+08 3.37249824e+08]\n",
      "[2.91964582e+08 2.68679576e+08 2.46918447e+08 ... 3.66411408e+08\n",
      " 2.93592671e+08 3.45109417e+08]\n",
      "[2.91535664e+08 2.69770284e+08 2.46330064e+08 ... 3.67176338e+08\n",
      " 2.93060161e+08 3.46685789e+08]\n",
      "[2.90638775e+08 2.68991951e+08 2.48760134e+08 ... 3.67472984e+08\n",
      " 2.93435221e+08 3.47621209e+08]\n"
     ]
    }
   ],
   "source": [
    "i=0\n",
    "for m in enumerate (max_depth):\n",
    "    for n in enumerate (n_estimators):\n",
    "        y=data['End-systolic elastance']\n",
    "        x=used_features\n",
    "        regressor=RandomForestRegressor(n[1],max_depth=m[1])\n",
    "        regressor.fit(used_features,y)\n",
    "        y_predict=regressor.predict(used_features)\n",
    "        esE[:,i]=y_predict\n",
    "        i+=1\n",
    "        print(y_predict)"
   ]
  },
  {
   "cell_type": "code",
   "execution_count": 16,
   "metadata": {},
   "outputs": [],
   "source": [
    "RFR_PATH='Data/RFR_Pred.csv'\n",
    "esE_csv=pd.DataFrame(esE,columns=['(5,500)','(10,700)','(5,1000)','(10,500)','(10,700)','(10,1000)','(20,500)','(20,700)','(20,1000)'])\n",
    "esE_csv.to_csv(RFR_PATH,sep=',')"
   ]
  },
  {
   "cell_type": "code",
   "execution_count": 9,
   "metadata": {},
   "outputs": [],
   "source": [
    "#Support Vector Regressor\n",
    "C=[1,10,100]\n",
    "gamma=[0.001,0.01,0.1,1]\n"
   ]
  },
  {
   "cell_type": "code",
   "execution_count": 10,
   "metadata": {},
   "outputs": [],
   "source": [
    "#Ridge Regression\n",
    "alpha=[1,10,100,200]"
   ]
  },
  {
   "cell_type": "code",
   "execution_count": 11,
   "metadata": {},
   "outputs": [],
   "source": [
    "#Gradient Boosting\n",
    "learning_rate=[0.01,0.05,1]\n",
    "n_estimators=[100,500,1000,1750]"
   ]
  }
 ],
 "metadata": {
  "kernelspec": {
   "display_name": "Python 3",
   "language": "python",
   "name": "python3"
  },
  "language_info": {
   "codemirror_mode": {
    "name": "ipython",
    "version": 3
   },
   "file_extension": ".py",
   "mimetype": "text/x-python",
   "name": "python",
   "nbconvert_exporter": "python",
   "pygments_lexer": "ipython3",
   "version": "3.6.9"
  }
 },
 "nbformat": 4,
 "nbformat_minor": 4
}
